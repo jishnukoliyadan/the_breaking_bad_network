{
 "cells": [
  {
   "cell_type": "markdown",
   "id": "eaab32fa-aed8-4c30-ad6c-eef54900fba4",
   "metadata": {},
   "source": [
    "# Breaking Bad : Web scrapping summaries from [Fandom.com](https://breakingbad.fandom.com/wiki/Breaking_Bad_(TV_series))\n",
    "<img src = 'src/imgs/Breaking_Bad_Poster1.jpg' width = 50%>\n",
    "\n",
    "\n",
    "### Series Summary\n",
    "\n",
    "- **Breaking Bad** is an American crime drama television series created and produced by Vince Gilligan.\n",
    "- Set and filmed in Albuquerque, New Mexico, the series follows Walter White (Bryan Cranston), an underpaid, overqualified, and dispirited high-school chemistry teacher who is struggling with a recent diagnosis of stage-three lung cancer.\n",
    "- Walt turns to a life of crime and partners with a former student, Jesse Pinkman (Aaron Paul), to produce and distribute crystal meth to secure his family's financial future before he dies, while navigating the dangers of the criminal underworld.\n",
    "- The show aired on AMC from January 20, 2008, to September 29, 2013, consisting of five seasons for a total of 62 episodes.\n",
    "\n",
    "### The Plan\n",
    "\n",
    "- Will generate link to each episode in the series.\n",
    "- Once linkes are populated, 'll iterate over it to get, \n",
    "    - Character names and\n",
    "    - episode summary.\n",
    "- Combine each seasons episode summary into one file.\n",
    "- Save the summary of each summary in separate files,\n",
    "    - ie for 6 seasons, we'll have total 6 summary files."
   ]
  },
  {
   "cell_type": "markdown",
   "id": "67cdfb40-f2f3-4126-945a-1d7bf6223b43",
   "metadata": {},
   "source": [
    "# 1. Importing libraries"
   ]
  },
  {
   "cell_type": "code",
   "execution_count": 1,
   "id": "8f7316ee-b3d9-4d45-ba9a-758516df07a2",
   "metadata": {},
   "outputs": [],
   "source": [
    "import os\n",
    "import re\n",
    "import time\n",
    "\n",
    "import shutil\n",
    "import requests\n",
    "\n",
    "import numpy as np\n",
    "import pandas as pd\n",
    "from tqdm import tqdm\n",
    "\n",
    "from bs4 import BeautifulSoup as bs\n",
    "\n",
    "from selenium import webdriver\n",
    "from selenium.webdriver.common.by import By\n",
    "from webdriver_manager.core.utils import ChromeType\n",
    "from webdriver_manager.chrome import ChromeDriverManager\n",
    "from selenium.webdriver.chrome.service import Service as ChromiumService"
   ]
  },
  {
   "cell_type": "code",
   "execution_count": 2,
   "id": "4d927148-e1ed-40af-a9b5-def6942bebac",
   "metadata": {},
   "outputs": [],
   "source": [
    "# Ensuring empty directory is created\n",
    "\n",
    "if os.path.isdir('data'):\n",
    "    shutil.rmtree('data')\n",
    "os.makedirs('data/summaries')"
   ]
  },
  {
   "cell_type": "markdown",
   "id": "1ca283ca-8904-4937-b674-b9839318651a",
   "metadata": {},
   "source": [
    "# 2. Getting started with scrapping"
   ]
  },
  {
   "cell_type": "code",
   "execution_count": 3,
   "id": "31dd15b8-f34f-48e2-a42f-ab48aa270378",
   "metadata": {},
   "outputs": [],
   "source": [
    "# Parsing website skelton to bs4 object\n",
    "\n",
    "BASE_URL = 'https://breakingbad.fandom.com' \n",
    "\n",
    "r = requests.get(BASE_URL + '/wiki/Category:Seasons_(Breaking_Bad)')\n",
    "\n",
    "soup = bs(r.content, 'lxml')"
   ]
  },
  {
   "cell_type": "markdown",
   "id": "4fb6f91e-b3cd-4c37-a1af-31cc7b60b421",
   "metadata": {},
   "source": [
    "# 3. Generating links of seasons main page"
   ]
  },
  {
   "cell_type": "code",
   "execution_count": 4,
   "id": "6ec316dd-63aa-4bfb-bf50-ff2e2fc1c406",
   "metadata": {},
   "outputs": [
    {
     "name": "stdout",
     "output_type": "stream",
     "text": [
      "Season 1 (Breaking Bad) :: https://breakingbad.fandom.com/wiki/Season_1_(Breaking_Bad)\n",
      "Season 2 (Breaking Bad) :: https://breakingbad.fandom.com/wiki/Season_2_(Breaking_Bad)\n",
      "Season 3 (Breaking Bad) :: https://breakingbad.fandom.com/wiki/Season_3_(Breaking_Bad)\n",
      "Season 4 (Breaking Bad) :: https://breakingbad.fandom.com/wiki/Season_4_(Breaking_Bad)\n",
      "Season 5A (Breaking Bad) :: https://breakingbad.fandom.com/wiki/Season_5A_(Breaking_Bad)\n",
      "Season 5B (Breaking Bad) :: https://breakingbad.fandom.com/wiki/Season_5B_(Breaking_Bad)\n"
     ]
    }
   ],
   "source": [
    "# Generating links to each seasons web page\n",
    "\n",
    "all_items_S = soup.find_all('div', class_ = 'category-page__members-wrapper')[-1]\n",
    "season_list = all_items_S.find_all('li', class_ = 'category-page__member')\n",
    "\n",
    "season_link = []\n",
    "\n",
    "for season in season_list:\n",
    "    season_link.append((season.find('a').get('title'), BASE_URL + season.find('a').get('href')))\n",
    "\n",
    "for sea, link in season_link:\n",
    "    print(f'{sea} :: {link}')"
   ]
  },
  {
   "cell_type": "markdown",
   "id": "f6f036dc-68d7-4928-8437-2b4ce1e49e2c",
   "metadata": {},
   "source": [
    "# 4. Defining helper functions"
   ]
  },
  {
   "cell_type": "code",
   "execution_count": 5,
   "id": "2d0a884d-7e08-4954-ac00-717510bd55ed",
   "metadata": {},
   "outputs": [],
   "source": [
    "# https://pypi.org/project/webdriver-manager/\n",
    "\n",
    "def call_webdriver():\n",
    "    \n",
    "    return webdriver.Chrome(service = ChromiumService(ChromeDriverManager(chrome_type = ChromeType.CHROMIUM).install()))"
   ]
  },
  {
   "cell_type": "code",
   "execution_count": 6,
   "id": "bdf4e696-abe3-4b58-aaaa-9c537e7b2c54",
   "metadata": {},
   "outputs": [],
   "source": [
    "def get_summmary(episode_link, season_name):\n",
    "    \n",
    "    driver = call_webdriver()\n",
    "    driver.minimize_window()\n",
    "    driver.get(episode_link)\n",
    "    time.sleep(5)\n",
    "    all_para = driver.find_elements(By.XPATH, '//*[@id=\"mw-content-text\"]/div/h3[1]//following::p')\n",
    "    \n",
    "    with open(f'data/summaries/{season_name}.txt', 'a') as file:\n",
    "        for para in all_para:\n",
    "            if para.aria_role =='paragraph':\n",
    "                file.write(para.text + '\\n')\n",
    "                \n",
    "    # list_para = [para.text for para in all_para if para.aria_role =='paragraph']\n",
    "    driver.close()\n",
    "    # return list_para"
   ]
  },
  {
   "cell_type": "code",
   "execution_count": 7,
   "id": "1b9a9877-2852-42a3-997e-d1e318ae2bcf",
   "metadata": {},
   "outputs": [],
   "source": [
    "def get_starring(episode_link):\n",
    "    \n",
    "    r = requests.get(episode_link)\n",
    "    soup = bs(r.content, 'lxml')\n",
    "    \n",
    "    starring_block = soup.find('div', class_ = 'tabber wds-tabber')\n",
    "    charactres_class = starring_block.find_all('div', class_ = 'wds-tab__content')\n",
    "\n",
    "    # for char in charactres_class:\n",
    "    #     for ch in char.select('li'):\n",
    "    #         print(ch.text)\n",
    "        \n",
    "    starrings = [ch.text for char in charactres_class for ch in char.select('li')]\n",
    "        \n",
    "    # starrings = [star.text for star in soup.select('div.tabber.wds-tabber table li')]\n",
    "    \n",
    "    # for char in starrings:\n",
    "    #     print(char.text)\n",
    "    \n",
    "    return starrings"
   ]
  },
  {
   "cell_type": "markdown",
   "id": "553e1b04-0325-40b0-b0f1-7754ea694586",
   "metadata": {},
   "source": [
    "# 5. Gathering each episodes summary and character names"
   ]
  },
  {
   "cell_type": "code",
   "execution_count": 8,
   "id": "8c14026f-cd70-40b8-bdb2-a08d3466279b",
   "metadata": {},
   "outputs": [
    {
     "name": "stderr",
     "output_type": "stream",
     "text": [
      "100%|███████████████████████████████████████████████████████████████| 6/6 [1:20:17<00:00, 802.86s/it]"
     ]
    },
    {
     "name": "stdout",
     "output_type": "stream",
     "text": [
      "Number of episodes recoreded   :: 62\n"
     ]
    },
    {
     "name": "stderr",
     "output_type": "stream",
     "text": [
      "\n"
     ]
    }
   ],
   "source": [
    "episode_links, characters = {}, {}\n",
    "\n",
    "for season, link in tqdm(season_link):\n",
    "    \n",
    "    r = requests.get(link)\n",
    "\n",
    "    soup = bs(r.content, 'lxml')\n",
    "    episodes = ['https://breakingbad.fandom.com' + x.find('a').get('href') for x in soup.select('#gallery-0 div.thumb')]\n",
    "    \n",
    "    season = season.split(' (')[0].replace(' ', '_')\n",
    "    episode_links[season] = episodes\n",
    "    \n",
    "    characts = []\n",
    "    \n",
    "    for episode in episodes:\n",
    "        get_summmary(episode, season)\n",
    "        characts.append(get_starring(episode))\n",
    "        \n",
    "    characters[season] = list(np.concatenate(characts))\n",
    "    \n",
    "    # cnt += len(episodes)\n",
    "    # break\n",
    "        \n",
    "print(f'Number of episodes recoreded   :: {np.concatenate(list(episode_links.values())).shape[0]}')"
   ]
  },
  {
   "cell_type": "markdown",
   "id": "9c20826b-5738-47a4-81ca-c0da4e4389a9",
   "metadata": {},
   "source": [
    "# 6. Processing obtained character name info."
   ]
  },
  {
   "cell_type": "code",
   "execution_count": 9,
   "id": "55a03b07-d554-4d1f-a281-99483caba5e0",
   "metadata": {},
   "outputs": [],
   "source": [
    "# Saving episodes link to a text file for future needs\n",
    "\n",
    "with open('data/season_nd_episode_links.txt', 'w') as file:\n",
    "        file.write(str(episode_links))"
   ]
  },
  {
   "cell_type": "code",
   "execution_count": 10,
   "id": "b9667c4a-5a90-450f-a7a8-b1b94cf893f7",
   "metadata": {},
   "outputs": [],
   "source": [
    "Season_1 = ['Season_1'] * len(characters['Season_1'])\n",
    "Season_2 = ['Season_2'] * len(characters['Season_2'])\n",
    "Season_3 = ['Season_3'] * len(characters['Season_3'])\n",
    "Season_4 = ['Season_4'] * len(characters['Season_4'])\n",
    "Season_5A = ['Season_5A'] * len(characters['Season_5A'])\n",
    "Season_5B = ['Season_5B'] * len(characters['Season_5B'])\n",
    "\n",
    "seas = Season_1 + Season_2 + Season_3 + Season_4 + Season_5A + Season_5B\n",
    "\n",
    "chars = characters['Season_1'] + characters['Season_2'] + characters['Season_3'] + characters['Season_4'] + characters['Season_5A'] + characters['Season_5B']"
   ]
  },
  {
   "cell_type": "code",
   "execution_count": 11,
   "id": "d140c7fa-5307-4dfa-85cf-f9cf9dcd673c",
   "metadata": {},
   "outputs": [
    {
     "data": {
      "text/html": [
       "<div>\n",
       "<style scoped>\n",
       "    .dataframe tbody tr th:only-of-type {\n",
       "        vertical-align: middle;\n",
       "    }\n",
       "\n",
       "    .dataframe tbody tr th {\n",
       "        vertical-align: top;\n",
       "    }\n",
       "\n",
       "    .dataframe thead th {\n",
       "        text-align: right;\n",
       "    }\n",
       "</style>\n",
       "<table border=\"1\" class=\"dataframe\">\n",
       "  <thead>\n",
       "    <tr style=\"text-align: right;\">\n",
       "      <th></th>\n",
       "      <th>Season</th>\n",
       "      <th>Characters</th>\n",
       "    </tr>\n",
       "  </thead>\n",
       "  <tbody>\n",
       "    <tr>\n",
       "      <th>0</th>\n",
       "      <td>Season_1</td>\n",
       "      <td>Bryan Cranston as Walter White</td>\n",
       "    </tr>\n",
       "    <tr>\n",
       "      <th>1</th>\n",
       "      <td>Season_1</td>\n",
       "      <td>Anna Gunn as Skyler White</td>\n",
       "    </tr>\n",
       "    <tr>\n",
       "      <th>2</th>\n",
       "      <td>Season_1</td>\n",
       "      <td>Aaron Paul as Jesse Pinkman</td>\n",
       "    </tr>\n",
       "    <tr>\n",
       "      <th>3</th>\n",
       "      <td>Season_1</td>\n",
       "      <td>Dean Norris as Hank Schrader</td>\n",
       "    </tr>\n",
       "    <tr>\n",
       "      <th>4</th>\n",
       "      <td>Season_1</td>\n",
       "      <td>Betsy Brandt as Marie Schrader</td>\n",
       "    </tr>\n",
       "  </tbody>\n",
       "</table>\n",
       "</div>"
      ],
      "text/plain": [
       "     Season                      Characters\n",
       "0  Season_1  Bryan Cranston as Walter White\n",
       "1  Season_1       Anna Gunn as Skyler White\n",
       "2  Season_1     Aaron Paul as Jesse Pinkman\n",
       "3  Season_1    Dean Norris as Hank Schrader\n",
       "4  Season_1  Betsy Brandt as Marie Schrader"
      ]
     },
     "execution_count": 11,
     "metadata": {},
     "output_type": "execute_result"
    }
   ],
   "source": [
    "character_df = pd.DataFrame({'Season' : seas, 'Characters' : chars})\n",
    "character_df.to_csv('data/character_df.csv', index = False)\n",
    "character_df.head()"
   ]
  },
  {
   "cell_type": "code",
   "execution_count": 12,
   "id": "3c17d32a-9d75-431d-ada5-f23f406e8512",
   "metadata": {},
   "outputs": [
    {
     "name": "stdout",
     "output_type": "stream",
     "text": [
      "Number of Characters recorded per season\n",
      "----------------------------------------\n"
     ]
    },
    {
     "data": {
      "text/plain": [
       "Season_1     133\n",
       "Season_2     234\n",
       "Season_3     264\n",
       "Season_4     270\n",
       "Season_5A    157\n",
       "Season_5B    195\n",
       "Name: Season, dtype: int64"
      ]
     },
     "execution_count": 12,
     "metadata": {},
     "output_type": "execute_result"
    }
   ],
   "source": [
    "print('Number of Characters recorded per season'); print('-' * 40)\n",
    "character_df.Season.value_counts(sort = False)"
   ]
  },
  {
   "cell_type": "code",
   "execution_count": 13,
   "id": "9ac20409-5be8-41cf-97c3-7b9ecac525a9",
   "metadata": {},
   "outputs": [],
   "source": [
    "# Cleaning character_df : Removing and stripping unwanted characters\n",
    "\n",
    "character_df.Characters = character_df.Characters.apply(lambda x : re.sub(u'\\xa0', u' ', x).strip()) # https://stackoverflow.com/a/11566398\n",
    "character_df.Characters = character_df.Characters.apply(lambda x : re.sub(r'\\t', ' ', x).strip())\n",
    "character_df.Characters = character_df.Characters.apply(lambda x : x.split(' as ')[-1].strip())\n",
    "character_df.Characters = character_df.Characters.apply(lambda x : re.sub(r'^as\\s', ' ', x).strip())"
   ]
  },
  {
   "cell_type": "code",
   "execution_count": 14,
   "id": "aeea8058-18f7-4599-b54c-970c14a4e231",
   "metadata": {},
   "outputs": [
    {
     "name": "stdout",
     "output_type": "stream",
     "text": [
      "Jock's Friend #1\n",
      "Jock's Friend #2\n",
      "Hank Schrader (credit only)\n",
      "Hank Schrader (archive footage)\n"
     ]
    }
   ],
   "source": [
    "for idx in [19, 20, 32, 1230]:\n",
    "    print(character_df.iloc[idx][1])"
   ]
  },
  {
   "cell_type": "code",
   "execution_count": 15,
   "id": "8d7c2614-7a12-4fd2-bd85-db7453ba0e35",
   "metadata": {},
   "outputs": [],
   "source": [
    "# Processing character names\n",
    "\n",
    "character_df.Characters = character_df.Characters.apply(lambda x : re.sub(r'#\\d*', ' ', x).strip()) # Removing '#' from name\n",
    "character_df.Characters = character_df.Characters.apply(lambda x : re.sub(r'\\(.*\\)', ' ', x).strip()) # Removing '()' and text inside those\n",
    "character_df.Characters = character_df.Characters.apply(lambda x : re.sub(r'CarWash Patron', 'Car Wash Patron', x).strip())\n",
    "character_df.Characters = character_df.Characters.apply(lambda x : re.sub('\\s+', ' ', x).strip()) # Removing unwanted extra white spaces"
   ]
  },
  {
   "cell_type": "code",
   "execution_count": 16,
   "id": "58b0afa3-d365-4d03-b46c-47a480d4ceab",
   "metadata": {},
   "outputs": [
    {
     "name": "stdout",
     "output_type": "stream",
     "text": [
      "Total number of characters\t\t:: 1253\n",
      "Total number of unique characters\t:: 385\n"
     ]
    }
   ],
   "source": [
    "print(f'Total number of characters\\t\\t:: {len(character_df.Characters)}')\n",
    "print(f'Total number of unique characters\\t:: {character_df.Characters.nunique()}')"
   ]
  },
  {
   "cell_type": "code",
   "execution_count": 17,
   "id": "096728e4-dc55-473d-80f1-a0f29baec1d0",
   "metadata": {},
   "outputs": [
    {
     "data": {
      "text/html": [
       "<div>\n",
       "<style scoped>\n",
       "    .dataframe tbody tr th:only-of-type {\n",
       "        vertical-align: middle;\n",
       "    }\n",
       "\n",
       "    .dataframe tbody tr th {\n",
       "        vertical-align: top;\n",
       "    }\n",
       "\n",
       "    .dataframe thead th {\n",
       "        text-align: right;\n",
       "    }\n",
       "</style>\n",
       "<table border=\"1\" class=\"dataframe\">\n",
       "  <thead>\n",
       "    <tr style=\"text-align: right;\">\n",
       "      <th></th>\n",
       "      <th>Season</th>\n",
       "      <th>Characters</th>\n",
       "    </tr>\n",
       "  </thead>\n",
       "  <tbody>\n",
       "    <tr>\n",
       "      <th>0</th>\n",
       "      <td>Season_1</td>\n",
       "      <td>Walter White</td>\n",
       "    </tr>\n",
       "    <tr>\n",
       "      <th>1</th>\n",
       "      <td>Season_1</td>\n",
       "      <td>Skyler White</td>\n",
       "    </tr>\n",
       "    <tr>\n",
       "      <th>2</th>\n",
       "      <td>Season_1</td>\n",
       "      <td>Jesse Pinkman</td>\n",
       "    </tr>\n",
       "    <tr>\n",
       "      <th>3</th>\n",
       "      <td>Season_1</td>\n",
       "      <td>Hank Schrader</td>\n",
       "    </tr>\n",
       "    <tr>\n",
       "      <th>4</th>\n",
       "      <td>Season_1</td>\n",
       "      <td>Marie Schrader</td>\n",
       "    </tr>\n",
       "  </tbody>\n",
       "</table>\n",
       "</div>"
      ],
      "text/plain": [
       "     Season      Characters\n",
       "0  Season_1    Walter White\n",
       "1  Season_1    Skyler White\n",
       "2  Season_1   Jesse Pinkman\n",
       "3  Season_1   Hank Schrader\n",
       "4  Season_1  Marie Schrader"
      ]
     },
     "execution_count": 17,
     "metadata": {},
     "output_type": "execute_result"
    }
   ],
   "source": [
    "character_df.head()"
   ]
  },
  {
   "cell_type": "code",
   "execution_count": 18,
   "id": "41d510c0-4b17-4eb2-b1bc-d604cda0b321",
   "metadata": {},
   "outputs": [
    {
     "data": {
      "text/html": [
       "<div>\n",
       "<style scoped>\n",
       "    .dataframe tbody tr th:only-of-type {\n",
       "        vertical-align: middle;\n",
       "    }\n",
       "\n",
       "    .dataframe tbody tr th {\n",
       "        vertical-align: top;\n",
       "    }\n",
       "\n",
       "    .dataframe thead th {\n",
       "        text-align: right;\n",
       "    }\n",
       "</style>\n",
       "<table border=\"1\" class=\"dataframe\">\n",
       "  <thead>\n",
       "    <tr style=\"text-align: right;\">\n",
       "      <th></th>\n",
       "      <th>Season</th>\n",
       "      <th>Characters</th>\n",
       "    </tr>\n",
       "  </thead>\n",
       "  <tbody>\n",
       "    <tr>\n",
       "      <th>1248</th>\n",
       "      <td>Season_5B</td>\n",
       "      <td>Albuquerque Police Officer</td>\n",
       "    </tr>\n",
       "    <tr>\n",
       "      <th>1249</th>\n",
       "      <td>Season_5B</td>\n",
       "      <td>DEA</td>\n",
       "    </tr>\n",
       "    <tr>\n",
       "      <th>1250</th>\n",
       "      <td>Season_5B</td>\n",
       "      <td>Steven Gomez</td>\n",
       "    </tr>\n",
       "    <tr>\n",
       "      <th>1251</th>\n",
       "      <td>Season_5B</td>\n",
       "      <td>Jack's Henchman</td>\n",
       "    </tr>\n",
       "    <tr>\n",
       "      <th>1252</th>\n",
       "      <td>Season_5B</td>\n",
       "      <td>Student in bus</td>\n",
       "    </tr>\n",
       "  </tbody>\n",
       "</table>\n",
       "</div>"
      ],
      "text/plain": [
       "         Season                  Characters\n",
       "1248  Season_5B  Albuquerque Police Officer\n",
       "1249  Season_5B                         DEA\n",
       "1250  Season_5B                Steven Gomez\n",
       "1251  Season_5B             Jack's Henchman\n",
       "1252  Season_5B              Student in bus"
      ]
     },
     "execution_count": 18,
     "metadata": {},
     "output_type": "execute_result"
    }
   ],
   "source": [
    "character_df.to_csv('data/character_df_cleaned.csv', index = False)\n",
    "character_df.tail()"
   ]
  },
  {
   "cell_type": "markdown",
   "id": "8ef4c61b-13aa-4ffb-912a-dfee10fcc7ba",
   "metadata": {},
   "source": [
    "# 7. Next is What ?\n",
    "\n",
    "- We have generated summaries all seasons using web scrapping in this part.\n",
    "- In the next part file [relationship_finder.ipynb](https://github.com/jishnukoliyadan/the_breaking_bad_network/blob/master/relationship_finder.ipynb), we will try to find the relationsship between characters using `spaCy` and `NetworkX` libraries."
   ]
  },
  {
   "cell_type": "markdown",
   "id": "5f4df0fd-1aa4-4b9a-9e15-f0eb9afc2e2f",
   "metadata": {
    "tags": []
   },
   "source": [
    "# References\n",
    "\n",
    "References\n",
    "- Official documentations of all libraries\n",
    "- [Fandom](https://www.fandom.com/)\n",
    "- [GitHub : scrapper_github_topics](https://github.com/jishnukoliyadan/scrapper_github_topics)\n",
    "- [DataCamp - A Network Analysis of Game of Thrones](https://www.datacamp.com/projects/76)\n",
    "\n",
    "Query Resolution\n",
    "- [GeeksforGeeks](https://www.geeksforgeeks.org/)\n",
    "- [Stack Overflow](https://stackoverflow.com/)\n",
    "    \n",
    "Image Credits\n",
    "- [IMDb.com](https://www.imdb.com/)"
   ]
  }
 ],
 "metadata": {
  "kernelspec": {
   "display_name": "Python 3 (ipykernel)",
   "language": "python",
   "name": "python3"
  },
  "language_info": {
   "codemirror_mode": {
    "name": "ipython",
    "version": 3
   },
   "file_extension": ".py",
   "mimetype": "text/x-python",
   "name": "python",
   "nbconvert_exporter": "python",
   "pygments_lexer": "ipython3",
   "version": "3.10.8"
  }
 },
 "nbformat": 4,
 "nbformat_minor": 5
}
