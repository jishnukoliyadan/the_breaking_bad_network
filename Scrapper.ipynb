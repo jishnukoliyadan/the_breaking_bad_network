{
 "cells": [
  {
   "cell_type": "code",
   "execution_count": 1,
   "id": "8f7316ee-b3d9-4d45-ba9a-758516df07a2",
   "metadata": {},
   "outputs": [],
   "source": [
    "import time\n",
    "from tqdm import tqdm\n",
    "\n",
    "import requests\n",
    "from bs4 import BeautifulSoup as bs\n",
    "\n",
    "from selenium import webdriver\n",
    "from selenium.webdriver.common.by import By\n",
    "from webdriver_manager.core.utils import ChromeType\n",
    "from webdriver_manager.chrome import ChromeDriverManager\n",
    "from selenium.webdriver.chrome.service import Service as ChromiumService"
   ]
  },
  {
   "cell_type": "markdown",
   "id": "5d435129-6588-4f32-bdb4-13f6586a0ed1",
   "metadata": {},
   "source": [
    "**Getting each season URL's**"
   ]
  },
  {
   "cell_type": "code",
   "execution_count": 2,
   "id": "31dd15b8-f34f-48e2-a42f-ab48aa270378",
   "metadata": {},
   "outputs": [],
   "source": [
    "BASE_URL = 'https://breakingbad.fandom.com' \n",
    "\n",
    "r = requests.get(BASE_URL + '/wiki/Category:Seasons_(Breaking_Bad)')\n",
    "\n",
    "soup = bs(r.content, 'lxml')"
   ]
  },
  {
   "cell_type": "code",
   "execution_count": 3,
   "id": "6ec316dd-63aa-4bfb-bf50-ff2e2fc1c406",
   "metadata": {},
   "outputs": [
    {
     "data": {
      "text/plain": [
       "[('Season 1 (Breaking Bad)',\n",
       "  'https://breakingbad.fandom.com/wiki/Season_1_(Breaking_Bad)'),\n",
       " ('Season 2 (Breaking Bad)',\n",
       "  'https://breakingbad.fandom.com/wiki/Season_2_(Breaking_Bad)'),\n",
       " ('Season 3 (Breaking Bad)',\n",
       "  'https://breakingbad.fandom.com/wiki/Season_3_(Breaking_Bad)'),\n",
       " ('Season 4 (Breaking Bad)',\n",
       "  'https://breakingbad.fandom.com/wiki/Season_4_(Breaking_Bad)'),\n",
       " ('Season 5A (Breaking Bad)',\n",
       "  'https://breakingbad.fandom.com/wiki/Season_5A_(Breaking_Bad)'),\n",
       " ('Season 5B (Breaking Bad)',\n",
       "  'https://breakingbad.fandom.com/wiki/Season_5B_(Breaking_Bad)')]"
      ]
     },
     "execution_count": 3,
     "metadata": {},
     "output_type": "execute_result"
    }
   ],
   "source": [
    "all_items_S = soup.find_all('div', class_ = 'category-page__members-wrapper')[-1]\n",
    "season_list = all_items_S.find_all('li', class_ = 'category-page__member')\n",
    "\n",
    "season_link = []\n",
    "\n",
    "for season in season_list:\n",
    "    season_link.append((season.find('a').get('title'), BASE_URL + season.find('a').get('href')))\n",
    "\n",
    "season_link"
   ]
  },
  {
   "cell_type": "markdown",
   "id": "f6f036dc-68d7-4928-8437-2b4ce1e49e2c",
   "metadata": {},
   "source": [
    "**Episode Summary**"
   ]
  },
  {
   "cell_type": "code",
   "execution_count": 4,
   "id": "2d0a884d-7e08-4954-ac00-717510bd55ed",
   "metadata": {},
   "outputs": [],
   "source": [
    "# https://pypi.org/project/webdriver-manager/\n",
    "\n",
    "def call_webdriver():\n",
    "    \n",
    "    return webdriver.Chrome(service = ChromiumService(ChromeDriverManager(chrome_type = ChromeType.CHROMIUM).install()))"
   ]
  },
  {
   "cell_type": "code",
   "execution_count": 5,
   "id": "8c14026f-cd70-40b8-bdb2-a08d3466279b",
   "metadata": {},
   "outputs": [
    {
     "name": "stderr",
     "output_type": "stream",
     "text": [
      "100%|██████████████████████████████████████████████████████████████████| 6/6 [00:13<00:00,  2.32s/it]\n"
     ]
    },
    {
     "data": {
      "text/plain": [
       "62"
      ]
     },
     "execution_count": 5,
     "metadata": {},
     "output_type": "execute_result"
    }
   ],
   "source": [
    "cnt = 0\n",
    "for _, link in tqdm(season_link):\n",
    "    \n",
    "    r = requests.get(link)\n",
    "\n",
    "    soup = bs(r.content, 'lxml')\n",
    "\n",
    "    epis = ['https://breakingbad.fandom.com' + x.find('a').get('href') for x in soup.select('#gallery-0 div.thumb')]\n",
    "    \n",
    "    cnt += len(epis)\n",
    "    time.sleep(2)\n",
    "cnt"
   ]
  },
  {
   "cell_type": "code",
   "execution_count": 6,
   "id": "64fa37ea-6eb2-4529-97f8-37e42e40ee24",
   "metadata": {},
   "outputs": [
    {
     "name": "stdout",
     "output_type": "stream",
     "text": [
      "Bryan Cranston as Walter White\n",
      "Anna Gunn as Skyler White\n",
      "Aaron Paul as Jesse Pinkman\n",
      "Dean Norris as Hank Schrader\n",
      "Betsy Brandt as Marie Schrader\n",
      "RJ Mitte as Walter White Jr.\n",
      "Bob Odenkirk as Saul Goodman\n",
      "Laura Fraser as Lydia Rodarte-Quayle\n",
      "Jesse Plemons as Todd Alquist (credit only)\n",
      "Tina Parker as Francesca\n",
      "Pedro García as Mariano\n",
      "Cheryl Ford-Mente as Carol\n",
      "Debi Parker as Min-Ye\n",
      "Chad Brummett as DEA Agent Artie\n",
      "Joe Nemmers as DEA Agent Scott\n",
      "Wayne Dehart as Homeless Man\n",
      "Brett Shane Cooley as Homeowner\n",
      "Ray Chavez as Skater\n"
     ]
    }
   ],
   "source": [
    "r = requests.get(epis[0])\n",
    "\n",
    "soup = bs(r.content, 'lxml')\n",
    "\n",
    "for char in soup.select('div.tabber.wds-tabber table li'):\n",
    "    print(char.text)"
   ]
  },
  {
   "cell_type": "code",
   "execution_count": 7,
   "id": "aec57a8f-6dd2-4c95-a727-120c9c92d137",
   "metadata": {},
   "outputs": [
    {
     "name": "stderr",
     "output_type": "stream",
     "text": [
      "[WDM] - Downloading: 100%|██████████████████████████████████████| 6.96M/6.96M [00:01<00:00, 4.82MB/s]\n"
     ]
    },
    {
     "name": "stdout",
     "output_type": "stream",
     "text": [
      "In a flashforward, following his purchase of the M60 machine gun, Walt drives up to his former residence, which is now fenced-in and derelict. He grabs a tire iron from the trunk of his car and breaks into the house. Trash and graffiti are everywhere; a group of skateboarders are hanging around the empty backyard pool. Walt notices a single, spray-painted word on the wall of what was his living room: \"HEISENBERG.\" He reaches the bedroom and retrieves the vial of ricin from its hiding spot inside a wall outlet. After exiting the house, Walt notices that he has been sighted by his neighbor, Carol. When he greets her cordially, she drops her groceries in shock.\n",
      "Hank suffers another panic attack\n",
      "A stunned Hank leaves the bathroom after discovering the inscription in Walt's copy of Walt Whitman's Leaves of Grass. He places the book inside Marie's bag, then leaves the party early with Marie. On the drive home, Hank has a panic attack and plows onto the lawn of a nearby house. He stumbles out of his car while Marie yells for the homeowner to call an ambulance.\n",
      "Upon coming home from the hospital, Hank assures Marie there is no need for him to see a doctor and makes her promise not to tell Skyler about what happened. He then retrieves the evidence portfolio from Gale Boetticher's murder and lays the evidence out on a table in his garage. Hank compares the handwriting from the Leaves of Grass inscription to the \"Favorite W.W.\" intro in Gale's lab notes; his suspicions are confirmed when he can visually see that both are written in Gale's handwriting.\n",
      "Lydia scolds Walt for the low quality of Blue Sky\n",
      "Later, at the car wash, Walt suggests that the Whites purchase a second car wash to launder their money faster. Lydia visits, ostensibly for a wash, and complains to Walt that the quality of the meth being produced has fallen to 68 percent since he left the operation. She wants Walt to return to cooking for at least a few days, but he sternly insists that her problems are none of his concern any longer. Skyler, having noticed that Lydia wants to wash a rental car, asks Walt who she is. He admits that Lydia is a \"former business associate\" interested in seeing him return but reassures her that he will not. Skyler follows Lydia outside, telling her to leave the car wash and never come back.\n",
      "The following morning, Hank tells Marie that he is not going into work. On her way out, she sees two DEA agents delivering boxes full of case files, which Hank has placed into the garage. Now alone, Hank pores over evidence related to Gus Fring, Mike Ehrmantraut, and Hector Salamanca. He finally comes across a crude illustration of Heisenberg, which Hank now realizes bears an uncanny resemblance to Walt.\n",
      "Saul attempts to convince Jesse to keep his money\n",
      "Skinny Pete and Badger visit Jesse's house and get high. Jesse grows tired of their conversation — consisting of Badger detailing his Star Trek fan script — and retrieves the duffel bags containing his $5 million buyout. He takes the bags to Saul's office, but has trouble getting to see him. Since neither Francesca or Huell can help him see Saul early, he decides to light up a joint to attract attention to himself. Eventually, Saul calls him into the office. Jesse then tells Saul that each bag contains $2.5 million: he wants one bag to go to Mike's granddaughter Kaylee and the other to the parents of Drew Sharp. Saul is uncomfortable with the idea, but Jesse is adamant. After he leaves, Saul calls Walt, who tells him to hang on to the money. He takes the call while taking a course of chemotherapy; his cancer has returned.\n",
      "Walt begs Jesse to believe he did not kill Mike\n",
      "Walt shows up at Jesse's house with the money, asking for an explanation. He tells Jesse to stop focusing on the past, saying that he's out of the drug business himself and says there's nothing for them to do but live good lives. A teary-eyed Jesse thinks Mike's granddaughter needs someone to look after her. He further surmises that, since Mike hasn't come after Walt for organizing the murders of his men in prison, that Mike himself must be dead and Walt must know that. Walter denies killing Mike and tries to assuage Jesse's suspicions.\n",
      "Jesse gives away his \"blood money\"\n",
      "Later, Walt excuses himself from dinner and rushes to the bathroom to vomit. He inadvertently peers above the toilet and notices his copy of Leaves of Grass is missing. He continues to search for the book all about the house. When he turns in for bed, Walt becomes wonders whether Hank may have taken the book; he learns from Skyler that he hasn't come to work all week. Now even more suspicious, Walt sneaks outside in the middle of the night and checks the bottom of his car, discovering a tracking device.\n",
      "That same night, a homeless man knocks on the window of Jesse's parked car at the Dog House, waking him up from a nap. The vagrant asks Jesse if he can spare some change; Jesse gives him an entire stack of cash. The man, though perturbed by this windfall, eventually accepts and Jesse drives off. He drives through an impoverished neighborhood, frantically tossing wads of money into random lawns, desperate to be rid of it all.\n",
      "Walt menacingly advises Hank to \"tread lightly\"\n",
      "The following morning, two agents drop off more case files at Hank's house. As they leave, Walt pulls into the driveway. Hank nervously clears his files from the table. After initially feigning normalcy, Walt shows Hank the tracking device, which is similar to the one they used to track Gus. Hank drops the facade, closing the garage door behind Walt and then knocking him to the floor with a punch to the face. He expresses his disgust with Walt for what he has done. After failing to reason with Hank, Walt reveals that his cancer has returned and that he may not live long enough to be prosecuted. Hank looks at Walt in total disbelief, commenting that he doesn't even know who Walt is any more. Walt menacingly replies that if this is true, then Hank should probably \"tread lightly\".\n"
     ]
    }
   ],
   "source": [
    "driver = call_webdriver()\n",
    "driver.get(epis[0])\n",
    "\n",
    "xxx = driver.find_elements(By.XPATH, '//*[@id=\"mw-content-text\"]/div/h3[1]//following::p')\n",
    "\n",
    "for x in xxx:\n",
    "    if x.aria_role =='paragraph':\n",
    "        print(x.text)"
   ]
  },
  {
   "cell_type": "code",
   "execution_count": 8,
   "id": "b7b9829f-bc72-4957-ba38-15698dd0ec5f",
   "metadata": {},
   "outputs": [],
   "source": [
    "driver.close()"
   ]
  }
 ],
 "metadata": {
  "kernelspec": {
   "display_name": "Python 3 (ipykernel)",
   "language": "python",
   "name": "python3"
  },
  "language_info": {
   "codemirror_mode": {
    "name": "ipython",
    "version": 3
   },
   "file_extension": ".py",
   "mimetype": "text/x-python",
   "name": "python",
   "nbconvert_exporter": "python",
   "pygments_lexer": "ipython3",
   "version": "3.10.8"
  }
 },
 "nbformat": 4,
 "nbformat_minor": 5
}
