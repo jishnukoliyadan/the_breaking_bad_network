{
 "cells": [
  {
   "cell_type": "code",
   "execution_count": 1,
   "id": "8f7316ee-b3d9-4d45-ba9a-758516df07a2",
   "metadata": {},
   "outputs": [],
   "source": [
    "import pandas as pd\n",
    "from tqdm import tqdm\n",
    "import time\n",
    "\n",
    "from bs4 import BeautifulSoup as bs\n",
    "\n",
    "\n",
    "import requests"
   ]
  },
  {
   "cell_type": "markdown",
   "id": "5d435129-6588-4f32-bdb4-13f6586a0ed1",
   "metadata": {},
   "source": [
    "**Getting each season URL's**"
   ]
  },
  {
   "cell_type": "code",
   "execution_count": null,
   "id": "31dd15b8-f34f-48e2-a42f-ab48aa270378",
   "metadata": {},
   "outputs": [],
   "source": [
    "BASE_URL = 'https://breakingbad.fandom.com/wiki/' \n",
    "\n",
    "r = requests.get(BASE_URL + 'Category:Seasons_(Breaking_Bad)')\n",
    "\n",
    "soup = bs(r.content, 'lxml')"
   ]
  },
  {
   "cell_type": "code",
   "execution_count": 2,
   "id": "6ec316dd-63aa-4bfb-bf50-ff2e2fc1c406",
   "metadata": {},
   "outputs": [
    {
     "data": {
      "text/plain": [
       "[('Season 1 (Breaking Bad)',\n",
       "  'https://breakingbad.fandom.com/wiki//wiki/Season_1_(Breaking_Bad)'),\n",
       " ('Season 2 (Breaking Bad)',\n",
       "  'https://breakingbad.fandom.com/wiki//wiki/Season_2_(Breaking_Bad)'),\n",
       " ('Season 3 (Breaking Bad)',\n",
       "  'https://breakingbad.fandom.com/wiki//wiki/Season_3_(Breaking_Bad)'),\n",
       " ('Season 4 (Breaking Bad)',\n",
       "  'https://breakingbad.fandom.com/wiki//wiki/Season_4_(Breaking_Bad)'),\n",
       " ('Season 5A (Breaking Bad)',\n",
       "  'https://breakingbad.fandom.com/wiki//wiki/Season_5A_(Breaking_Bad)'),\n",
       " ('Season 5B (Breaking Bad)',\n",
       "  'https://breakingbad.fandom.com/wiki//wiki/Season_5B_(Breaking_Bad)')]"
      ]
     },
     "execution_count": 2,
     "metadata": {},
     "output_type": "execute_result"
    }
   ],
   "source": [
    "all_items_S = soup.find_all('div', class_ = 'category-page__members-wrapper')[-1]\n",
    "season_list = all_items_S.find_all('li', class_ = 'category-page__member')\n",
    "\n",
    "season_link = []\n",
    "\n",
    "for season in season_list:\n",
    "    season_link.append((season.find('a').get('title'), BASE_URL + season.find('a').get('href')))\n",
    "\n",
    "season_link"
   ]
  }
 ],
 "metadata": {
  "kernelspec": {
   "display_name": "Python 3 (ipykernel)",
   "language": "python",
   "name": "python3"
  },
  "language_info": {
   "codemirror_mode": {
    "name": "ipython",
    "version": 3
   },
   "file_extension": ".py",
   "mimetype": "text/x-python",
   "name": "python",
   "nbconvert_exporter": "python",
   "pygments_lexer": "ipython3",
   "version": "3.10.8"
  }
 },
 "nbformat": 4,
 "nbformat_minor": 5
}
