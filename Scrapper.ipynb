{
 "cells": [
  {
   "cell_type": "code",
   "execution_count": 1,
   "id": "8f7316ee-b3d9-4d45-ba9a-758516df07a2",
   "metadata": {},
   "outputs": [],
   "source": [
    "import time\n",
    "from tqdm import tqdm\n",
    "import numpy as np\n",
    "import os\n",
    "import requests\n",
    "import pandas as pd\n",
    "from bs4 import BeautifulSoup as bs\n",
    "import shutil\n",
    "from selenium import webdriver\n",
    "from selenium.webdriver.common.by import By\n",
    "from webdriver_manager.core.utils import ChromeType\n",
    "from webdriver_manager.chrome import ChromeDriverManager\n",
    "from selenium.webdriver.chrome.service import Service as ChromiumService"
   ]
  },
  {
   "cell_type": "markdown",
   "id": "5d435129-6588-4f32-bdb4-13f6586a0ed1",
   "metadata": {},
   "source": [
    "**Getting each season URL's**"
   ]
  },
  {
   "cell_type": "code",
   "execution_count": 2,
   "id": "4d927148-e1ed-40af-a9b5-def6942bebac",
   "metadata": {},
   "outputs": [],
   "source": [
    "if os.path.isdir('data'):\n",
    "    shutil.rmtree('data')\n",
    "    os.makedirs('data/summaries')"
   ]
  },
  {
   "cell_type": "code",
   "execution_count": 3,
   "id": "31dd15b8-f34f-48e2-a42f-ab48aa270378",
   "metadata": {},
   "outputs": [],
   "source": [
    "BASE_URL = 'https://breakingbad.fandom.com' \n",
    "\n",
    "r = requests.get(BASE_URL + '/wiki/Category:Seasons_(Breaking_Bad)')\n",
    "\n",
    "soup = bs(r.content, 'lxml')"
   ]
  },
  {
   "cell_type": "code",
   "execution_count": 4,
   "id": "6ec316dd-63aa-4bfb-bf50-ff2e2fc1c406",
   "metadata": {},
   "outputs": [
    {
     "data": {
      "text/plain": [
       "[('Season 1 (Breaking Bad)',\n",
       "  'https://breakingbad.fandom.com/wiki/Season_1_(Breaking_Bad)'),\n",
       " ('Season 2 (Breaking Bad)',\n",
       "  'https://breakingbad.fandom.com/wiki/Season_2_(Breaking_Bad)'),\n",
       " ('Season 3 (Breaking Bad)',\n",
       "  'https://breakingbad.fandom.com/wiki/Season_3_(Breaking_Bad)'),\n",
       " ('Season 4 (Breaking Bad)',\n",
       "  'https://breakingbad.fandom.com/wiki/Season_4_(Breaking_Bad)'),\n",
       " ('Season 5A (Breaking Bad)',\n",
       "  'https://breakingbad.fandom.com/wiki/Season_5A_(Breaking_Bad)'),\n",
       " ('Season 5B (Breaking Bad)',\n",
       "  'https://breakingbad.fandom.com/wiki/Season_5B_(Breaking_Bad)')]"
      ]
     },
     "execution_count": 4,
     "metadata": {},
     "output_type": "execute_result"
    }
   ],
   "source": [
    "all_items_S = soup.find_all('div', class_ = 'category-page__members-wrapper')[-1]\n",
    "season_list = all_items_S.find_all('li', class_ = 'category-page__member')\n",
    "\n",
    "season_link = []\n",
    "\n",
    "for season in season_list:\n",
    "    season_link.append((season.find('a').get('title'), BASE_URL + season.find('a').get('href')))\n",
    "\n",
    "season_link"
   ]
  },
  {
   "cell_type": "markdown",
   "id": "f6f036dc-68d7-4928-8437-2b4ce1e49e2c",
   "metadata": {},
   "source": [
    "**Episode Summary**"
   ]
  },
  {
   "cell_type": "code",
   "execution_count": 5,
   "id": "2d0a884d-7e08-4954-ac00-717510bd55ed",
   "metadata": {},
   "outputs": [],
   "source": [
    "# https://pypi.org/project/webdriver-manager/\n",
    "\n",
    "def call_webdriver():\n",
    "    \n",
    "    return webdriver.Chrome(service = ChromiumService(ChromeDriverManager(chrome_type = ChromeType.CHROMIUM).install()))"
   ]
  },
  {
   "cell_type": "code",
   "execution_count": 6,
   "id": "bdf4e696-abe3-4b58-aaaa-9c537e7b2c54",
   "metadata": {},
   "outputs": [],
   "source": [
    "def get_summmary(episode_link, season_name):\n",
    "    \n",
    "    driver = call_webdriver()\n",
    "    driver.minimize_window()\n",
    "    driver.get(episode_link)\n",
    "    time.sleep(5)\n",
    "    all_para = driver.find_elements(By.XPATH, '//*[@id=\"mw-content-text\"]/div/h3[1]//following::p')\n",
    "    \n",
    "    with open(f'data/summaries/{season_name}.txt', 'a') as file:\n",
    "        for para in all_para:\n",
    "            if para.aria_role =='paragraph':\n",
    "                file.write(para.text + '\\n')\n",
    "                \n",
    "    # list_para = [para.text for para in all_para if para.aria_role =='paragraph']\n",
    "    driver.close()\n",
    "    \n",
    "    # return list_para"
   ]
  },
  {
   "cell_type": "code",
   "execution_count": 7,
   "id": "1b9a9877-2852-42a3-997e-d1e318ae2bcf",
   "metadata": {},
   "outputs": [],
   "source": [
    "def get_starring(episode_link):\n",
    "    \n",
    "    r = requests.get(episode_link)\n",
    "    soup = bs(r.content, 'lxml')\n",
    "    \n",
    "    starring_block = soup.find('div', class_ = 'tabber wds-tabber')\n",
    "    charactres_class = starring_block.find_all('div', class_ = 'wds-tab__content')\n",
    "\n",
    "    # for char in charactres_class:\n",
    "    #     for ch in char.select('li'):\n",
    "    #         print(ch.text)\n",
    "        \n",
    "    starrings = [ch.text for char in charactres_class for ch in char.select('li')]\n",
    "        \n",
    "    # starrings = [star.text for star in soup.select('div.tabber.wds-tabber table li')]\n",
    "    \n",
    "    # for char in starrings:\n",
    "    #     print(char.text)\n",
    "    \n",
    "    return starrings"
   ]
  },
  {
   "cell_type": "code",
   "execution_count": 8,
   "id": "8c14026f-cd70-40b8-bdb2-a08d3466279b",
   "metadata": {},
   "outputs": [
    {
     "name": "stderr",
     "output_type": "stream",
     "text": [
      "  0%|                                                                          | 0/6 [07:07<?, ?it/s]"
     ]
    },
    {
     "name": "stdout",
     "output_type": "stream",
     "text": [
      "Number of episodes recoreded   :: 7\n"
     ]
    },
    {
     "name": "stderr",
     "output_type": "stream",
     "text": [
      "\n"
     ]
    }
   ],
   "source": [
    "episode_links, characters = {}, {}\n",
    "\n",
    "for season, link in tqdm(season_link):\n",
    "    \n",
    "    r = requests.get(link)\n",
    "\n",
    "    soup = bs(r.content, 'lxml')\n",
    "    episodes = ['https://breakingbad.fandom.com' + x.find('a').get('href') for x in soup.select('#gallery-0 div.thumb')]\n",
    "    \n",
    "    season = season.split(' (')[0].replace(' ', '_')\n",
    "    episode_links[season] = episodes\n",
    "    \n",
    "    characts = []\n",
    "    \n",
    "    for episode in episodes:\n",
    "        get_summmary(episode, season)\n",
    "        characts.append(get_starring(episode))\n",
    "        \n",
    "    characters[season] = list(np.concatenate(characts))\n",
    "    \n",
    "    \n",
    "    # cnt += len(episodes)\n",
    "    break\n",
    "        \n",
    "print(f'Number of episodes recoreded   :: {np.concatenate(list(episode_links.values())).shape[0]}')"
   ]
  },
  {
   "cell_type": "code",
   "execution_count": 9,
   "id": "55a03b07-d554-4d1f-a281-99483caba5e0",
   "metadata": {},
   "outputs": [],
   "source": [
    "with open('data/season_nd_episode_links.txt', 'w') as file:\n",
    "        file.write(str(episode_links))"
   ]
  },
  {
   "cell_type": "code",
   "execution_count": null,
   "id": "b9667c4a-5a90-450f-a7a8-b1b94cf893f7",
   "metadata": {},
   "outputs": [],
   "source": [
    "Season_1 = ['Season_1'] * len(characters['Season_1'])\n",
    "Season_2 = ['Season_2'] * len(characters['Season_2'])\n",
    "Season_3 = ['Season_3'] * len(characters['Season_3'])\n",
    "Season_4 = ['Season_4'] * len(characters['Season_4'])\n",
    "Season_5A = ['Season_5A'] * len(characters['Season_5A'])\n",
    "Season_5B = ['Season_5B'] * len(characters['Season_5B'])\n",
    "\n",
    "seas = Season_1 + Season_2 + Season_3 + Season_4 + Season_5A + Season_5B\n",
    "\n",
    "chars = characters['Season_1'] + characters['Season_2'] + characters['Season_3'] + characters['Season_4'] + characters['Season_5A'] + characters['Season_5B']"
   ]
  },
  {
   "cell_type": "code",
   "execution_count": 23,
   "id": "d140c7fa-5307-4dfa-85cf-f9cf9dcd673c",
   "metadata": {},
   "outputs": [
    {
     "data": {
      "text/html": [
       "<div>\n",
       "<style scoped>\n",
       "    .dataframe tbody tr th:only-of-type {\n",
       "        vertical-align: middle;\n",
       "    }\n",
       "\n",
       "    .dataframe tbody tr th {\n",
       "        vertical-align: top;\n",
       "    }\n",
       "\n",
       "    .dataframe thead th {\n",
       "        text-align: right;\n",
       "    }\n",
       "</style>\n",
       "<table border=\"1\" class=\"dataframe\">\n",
       "  <thead>\n",
       "    <tr style=\"text-align: right;\">\n",
       "      <th></th>\n",
       "      <th>Season_1</th>\n",
       "      <th>Season_2</th>\n",
       "    </tr>\n",
       "  </thead>\n",
       "  <tbody>\n",
       "    <tr>\n",
       "      <th>0</th>\n",
       "      <td>Bryan Cranston as Walter White</td>\n",
       "      <td>Bryan Cranston as Walter White</td>\n",
       "    </tr>\n",
       "    <tr>\n",
       "      <th>1</th>\n",
       "      <td>Anna Gunn as Skyler White</td>\n",
       "      <td>Anna Gunn as Skyler White</td>\n",
       "    </tr>\n",
       "    <tr>\n",
       "      <th>2</th>\n",
       "      <td>Aaron Paul as Jesse Pinkman</td>\n",
       "      <td>Aaron Paul as Jesse Pinkman</td>\n",
       "    </tr>\n",
       "    <tr>\n",
       "      <th>3</th>\n",
       "      <td>Dean Norris as Hank Schrader</td>\n",
       "      <td>Dean Norris as Hank Schrader</td>\n",
       "    </tr>\n",
       "    <tr>\n",
       "      <th>4</th>\n",
       "      <td>Betsy Brandt as Marie Schrader</td>\n",
       "      <td>Betsy Brandt as Marie Schrader</td>\n",
       "    </tr>\n",
       "    <tr>\n",
       "      <th>...</th>\n",
       "      <td>...</td>\n",
       "      <td>...</td>\n",
       "    </tr>\n",
       "    <tr>\n",
       "      <th>128</th>\n",
       "      <td>Matthew Page as Chemical Plant Guard</td>\n",
       "      <td>Matthew Page as Chemical Plant Guard</td>\n",
       "    </tr>\n",
       "    <tr>\n",
       "      <th>129</th>\n",
       "      <td>Jacob Mullikan as Prospective Buyer</td>\n",
       "      <td>Jacob Mullikan as Prospective Buyer</td>\n",
       "    </tr>\n",
       "    <tr>\n",
       "      <th>130</th>\n",
       "      <td>Charles Dowdy as Mr. Wilson</td>\n",
       "      <td>Charles Dowdy as Mr. Wilson</td>\n",
       "    </tr>\n",
       "    <tr>\n",
       "      <th>131</th>\n",
       "      <td>Cliff Gravel as Teacher</td>\n",
       "      <td>Cliff Gravel as Teacher</td>\n",
       "    </tr>\n",
       "    <tr>\n",
       "      <th>132</th>\n",
       "      <td>Clark Sanchez as Biker</td>\n",
       "      <td>Clark Sanchez as Biker</td>\n",
       "    </tr>\n",
       "  </tbody>\n",
       "</table>\n",
       "<p>133 rows × 2 columns</p>\n",
       "</div>"
      ],
      "text/plain": [
       "                                 Season_1  \\\n",
       "0          Bryan Cranston as Walter White   \n",
       "1               Anna Gunn as Skyler White   \n",
       "2             Aaron Paul as Jesse Pinkman   \n",
       "3            Dean Norris as Hank Schrader   \n",
       "4          Betsy Brandt as Marie Schrader   \n",
       "..                                    ...   \n",
       "128  Matthew Page as Chemical Plant Guard   \n",
       "129   Jacob Mullikan as Prospective Buyer   \n",
       "130           Charles Dowdy as Mr. Wilson   \n",
       "131               Cliff Gravel as Teacher   \n",
       "132                Clark Sanchez as Biker   \n",
       "\n",
       "                                 Season_2  \n",
       "0          Bryan Cranston as Walter White  \n",
       "1               Anna Gunn as Skyler White  \n",
       "2             Aaron Paul as Jesse Pinkman  \n",
       "3            Dean Norris as Hank Schrader  \n",
       "4          Betsy Brandt as Marie Schrader  \n",
       "..                                    ...  \n",
       "128  Matthew Page as Chemical Plant Guard  \n",
       "129   Jacob Mullikan as Prospective Buyer  \n",
       "130           Charles Dowdy as Mr. Wilson  \n",
       "131               Cliff Gravel as Teacher  \n",
       "132                Clark Sanchez as Biker  \n",
       "\n",
       "[133 rows x 2 columns]"
      ]
     },
     "execution_count": 23,
     "metadata": {},
     "output_type": "execute_result"
    }
   ],
   "source": [
    "character_df = pd.DataFrame({'Season' : seas, 'Characters' : chars})\n",
    "character_df.to_csv('data/character_df.csv', index = False)\n",
    "character_df.head()"
   ]
  }
 ],
 "metadata": {
  "kernelspec": {
   "display_name": "Python 3 (ipykernel)",
   "language": "python",
   "name": "python3"
  },
  "language_info": {
   "codemirror_mode": {
    "name": "ipython",
    "version": 3
   },
   "file_extension": ".py",
   "mimetype": "text/x-python",
   "name": "python",
   "nbconvert_exporter": "python",
   "pygments_lexer": "ipython3",
   "version": "3.10.8"
  }
 },
 "nbformat": 4,
 "nbformat_minor": 5
}
